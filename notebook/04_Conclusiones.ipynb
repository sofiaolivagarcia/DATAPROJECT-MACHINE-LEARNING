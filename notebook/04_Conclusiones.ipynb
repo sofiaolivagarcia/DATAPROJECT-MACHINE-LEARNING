{
 "cells": [
  {
   "cell_type": "markdown",
   "id": "5b50183a",
   "metadata": {},
   "source": [
    "## CONCLUSIONES FINALES DEL PROYECTO"
   ]
  },
  {
   "cell_type": "markdown",
   "id": "79a11a7d",
   "metadata": {},
   "source": [
    "- **Regresión**: probamos Regresión Lineal y Árbol de Decisión.  \n",
    "  El modelo lineal tuvo mejores métricas (MAE ≈ 6, R2 ≈ 0.36) que el árbol regulado (MAE ≈ 6.4, R2 ≈ 0.24).  \n",
    "  Por ello, la **Regresión Lineal** es el mejor modelo para predecir la nota final.\n",
    "\n",
    "- **Clasificación**: probamos Regresión Logística y Árbol de Clasificación.  \n",
    "  Ambos funcionaron bien, pero la logística fue más estable y sencilla, con Accuracy ≈ 0.91 y ROC-AUC ≈ 0.81.  \n",
    "  El árbol regulado llegó a resultados parecidos, pero menos consistente.  \n",
    "  Por ello seleccionamos la **Regresión Logística** como el modelo elegido para predecir si el alumno aprueba.\n"
   ]
  }
 ],
 "metadata": {
  "language_info": {
   "name": "python"
  }
 },
 "nbformat": 4,
 "nbformat_minor": 5
}
